{
 "cells": [
  {
   "cell_type": "code",
   "execution_count": 67,
   "id": "75f645f5-b176-4a83-b137-906d9ee0f976",
   "metadata": {},
   "outputs": [],
   "source": [
    "import numpy as np\n",
    "import matplotlib.pyplot as plt\n",
    "import imageio\n",
    "import o 
  {
   "cell_type": "code",
   "execution_count": 206,
   "id": "9ff73520-cebb-4b16-8211-1cd0b88c824b",
   "metadata": {},
   "outputs": [],
   "source": [
    "class Hopfield():\n",
    "    def __init__(self, \n",
    "                 memory_dim=(10,10), #Two integers corresponding to the dimensions of each memory. For 1D memories, set the second value to 1 \n",
    "                ):\n",
    "        \n",
    "        num_neurons = memory_dim[0]*memory_dim[1]\n",
    "        \n",
    "        self.weights = np.zeros((num_neurons, num_neurons))\n",
    "        self.memory_dim = memory_dim\n",
    "        \n",
    "    def store_memory(self, \n",
    "                     memory #A numpy array\n",
    "                     \n",
    "                    ):\n",
    "        if(memory.shape != self.memory_dim):\n",
    "            print(\"Error: The memory you attempted to store has a size mismatch with the network's initialized memory dimension\")\n",
    "            return\n",
    "        self.weights += np.outer(memory.flatten(), memory.flatten())\n",
    "        np.fill_diagonal(self.weights, 0)\n",
    "        \n",
    "    def recall_memory(self,\n",
    "                      partial_memory, #Numpy array\n",
    "                      threshold=0,\n",
    "                      save_as_GIF=True,\n",
    "                      GIFname='Recalling'\n",
    "                     ):\n",
    "        with plt.ioff():\n",
    "            iteration = 0\n",
    "            filenames = []\n",
    "            while(True):\n",
    "\n",
    "                if(save_as_GIF):\n",
    "                    plt.matshow(partial_memory)\n",
    "                    plt.savefig(f'~temp{iteration}.png')\n",
    "                    filenames.append(f'~temp{iteration}.png')\n",
    "\n",
    "                summed = np.matmul(self.weights, partial_memory.flatten())\n",
    "                summed[summed < threshold] = -1\n",
    "                summed[summed >= threshold] = 1\n",
    "                summed = np.reshape(summed, self.memory_dim)\n",
    "                if(np.count_nonzero(summed - partial_memory) == 0):\n",
    "                    break\n",
    "                partial_memory = summed\n",
    "\n",
    "                iteration += 1\n",
    "\n",
    "            if(save_as_GIF):\n",
    "                with imageio.get_writer(f'{GIFname}.gif', mode='I') as writer:\n",
    "                    for filename in filenames:\n",
    "                        image = imageio.v2.imread(os.getcwd() + f'\\\\{filename}')\n",
    "                        writer.append_data(image)\n",
    "                for filename in filenames:\n",
    "                    os.remove(os.getcwd() + f'\\\\{filename}')\n",
    "        \n",
    "        return partial_memory"
   ]
  },
  {
   "cell_type": "code",
   "execution_count": 207,
   "id": "6ba8522b-f87f-43d0-8f6a-9f5a77420e6b",
   "metadata": {},
   "outputs": [],
   "source": [
    "net = Hopfield((4,4))"
   ]
  },
  {
   "cell_type": "code",
   "execution_count": 208,
   "id": "37656e78-74ce-4f31-a3d5-ae5ef407a0bf",
   "metadata": {},
   "outputs": [],
   "source": [
    "mem = np.array([[1,1,1,1],[1,1,-1,-1],[-1,-1,-1,-1],[1,1,1,1]])"
   ]
  },
  {
   "cell_type": "code",
   "execution_count": 209,
   "id": "b546995e-0571-4ce5-8e60-13e7fc4ec640",
   "metadata": {},
   "outputs": [],
   "source": [
    "net.store_memory(mem)"
   ]
  },
  {
   "cell_type": "code",
   "execution_count": 210,
   "id": "1ad2c8ad-9e87-4c7d-9d01-e7230e1d936e",
   "metadata": {},
   "outputs": [],
   "source": [
    "np.fill_diagonal(mem, 0)"
   ]
  },
  {
   "cell_type": "code",
   "execution_count": 211,
   "id": "dcf4f2a4-f48f-4efe-872e-b8435af77fcc",
   "metadata": {},
   "outputs": [
    {
     "data": {
      "text/plain": [
       "array([[ 1.,  1.,  1.,  1.],\n",
       "       [ 1.,  1., -1., -1.],\n",
       "       [-1., -1., -1., -1.],\n",
       "       [ 1.,  1.,  1.,  1.]])"
      ]
     },
     "execution_count": 211,
     "metadata": {},
     "output_type": "execute_result"
    }
   ],
   "source": [
    "net.recall_memory(mem)"
   ]
  }
 ],
 "metadata": {
  "kernelspec": {
   "display_name": "Python 3 (ipykernel)",
   "language": "python",
   "name": "python3"
  },
  "language_info": {
   "codemirror_mode": {
    "name": "ipython",
    "version": 3
   },
   "file_extension": ".py",
   "mimetype": "text/x-python",
   "name": "python",
   "nbconvert_exporter": "python",
   "pygments_lexer": "ipython3",
   "version": "3.9.6"
  }
 },
 "nbformat": 4,
 "nbformat_minor": 5
}
