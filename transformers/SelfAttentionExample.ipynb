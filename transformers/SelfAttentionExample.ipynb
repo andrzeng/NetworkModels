{
 "cells": [
  {
   "cell_type": "markdown",
   "id": "16b9fd7c-f301-4171-8e36-a5890ee84ba9",
   "metadata": {},
   "source": [
    "## Self attention with Numpy"
   ]
  },
  {
   "cell_type": "markdown",
   "id": "1c2c4084-d6b9-4d14-a6e2-2c2365b9826d",
   "metadata": {},
   "source": [
    "Self-attention is the main building block behind the transformer\n",
    "architecture. A self-attention block takes in a sequence of tokens\n",
    "and calculates how much \"attention\" each token should give\n",
    "every other token."
   ]
  },
  {
   "cell_type": "code",
   "execution_count": 3,
   "id": "b974ac03-a0bb-467d-b731-4c8abc3b866e",
   "metadata": {},
   "outputs": [],
   "source": [
    "import numpy as np"
   ]
  },
  {
   "cell_type": "code",
   "execution_count": 2,
   "id": "22174d74-20a7-45c8-9a1d-8ec640e062a6",
   "metadata": {},
   "outputs": [],
   "source": [
    "class SelfAttention:\n",
    "    def __init__(self, \n",
    "                Wq, #The query matrix\n",
    "                Wk, #The key matrix\n",
    "                Wv #The value matrix\n",
    "                ):\n",
    "        self.Wq = Wq\n",
    "        self.Wk = Wk\n",
    "        self.Wv = Wv\n",
    "        \n",
    "    def forward(self, tokens):\n",
    "        '''\n",
    "        TODO\n",
    "        queries = np.matmul(self.Wq, tokens.T)\n",
    "        keys = np.matmul(self.Wk, tokens.T)\n",
    "        values = np.matmul(self.Wv, tokens.T)\n",
    "        '''"
   ]
  },
  {
   "cell_type": "markdown",
   "id": "37223769-1d1e-4e00-8006-ffe1f07b9728",
   "metadata": {},
   "source": [
    "### A toy example\n",
    "Say we have the words 'It's', 'snowing', and 'outside', given\n",
    "by the embeddings"
   ]
  },
  {
   "cell_type": "code",
   "execution_count": 26,
   "id": "96891e8c-bfad-42d5-87b3-390f757d4f9e",
   "metadata": {},
   "outputs": [
    {
     "name": "stdout",
     "output_type": "stream",
     "text": [
      "[[ 0.3  0.8 -0.3]\n",
      " [-0.9 -0.1  0. ]\n",
      " [ 1.  -0.2  0.3]]\n"
     ]
    }
   ],
   "source": [
    "its = np.array([0.3, 0.8, -0.3])\n",
    "snowing = np.array([-0.9, -0.1, 0])\n",
    "outside = np.array([1, -0.2, 0.3])\n",
    "\n",
    "combined = np.stack((its, snowing, outside), axis=0)\n",
    "print(combined)"
   ]
  },
  {
   "cell_type": "markdown",
   "id": "afed94b7-d708-42fc-a184-6a6cc979d2f0",
   "metadata": {},
   "source": [
    "(these are not actual embeddings). Let us pass this list of tokens\n",
    "through a self-attention block. A self-attention block is\n",
    "parameterized by three learnable matrices: \n",
    "- a *query* matrix\n",
    "- a *key* matrix\n",
    "- a *value* matrix\n",
    "\n",
    "They must be shaped such that taking the matrix product of an\n",
    "embedding vector with any of the above matrices is valid. \n",
    "Since our embeddings vectors are 1x3, we can define the matrices to be, for example:"
   ]
  },
  {
   "cell_type": "code",
   "execution_count": 15,
   "id": "d2a8640b-7073-41f8-ac80-fef6f53d7c88",
   "metadata": {},
   "outputs": [],
   "source": [
    "Wq = np.array([[0.27, 0.14],\n",
    "               [0.24, 0.09],\n",
    "               [0.56, 0.84]])\n",
    "\n",
    "Wk = np.array([[0.1 , 0.69],\n",
    "               [0.38, 0.63],\n",
    "               [0.91, 0.01]])\n",
    "\n",
    "Wv = np.array([[0.81, 0.8],\n",
    "               [0.67, 0.98],\n",
    "               [0.04, 0.3]])"
   ]
  },
  {
   "cell_type": "markdown",
   "id": "94eb6bf2-1b45-4aee-8d2a-09f33a80d991",
   "metadata": {},
   "source": [
    "We first calculate the queries and keys:"
   ]
  },
  {
   "cell_type": "code",
   "execution_count": 37,
   "id": "26943043-b03c-4864-841d-ed112980736e",
   "metadata": {},
   "outputs": [
    {
     "name": "stdout",
     "output_type": "stream",
     "text": [
      "queries: \n",
      " [[ 0.105 -0.138]\n",
      " [-0.267 -0.135]\n",
      " [ 0.39   0.374]] \n",
      "\n",
      "keys: \n",
      " [[ 0.061  0.708]\n",
      " [-0.128 -0.684]\n",
      " [ 0.297  0.567]]\n"
     ]
    }
   ],
   "source": [
    "queries = np.matmul(combined, Wq)\n",
    "keys = np.matmul(combined, Wk)\n",
    "print(\"queries: \\n\", queries, '\\n')\n",
    "print(\"keys: \\n\", keys)"
   ]
  },
  {
   "cell_type": "code",
   "execution_count": 31,
   "id": "e49675c4-1c02-4933-ba8b-f33ae85b8732",
   "metadata": {},
   "outputs": [
    {
     "data": {
      "text/plain": [
       "array([[-0.091299,  0.080952, -0.047061],\n",
       "       [-0.111867,  0.126516, -0.155844],\n",
       "       [ 0.288582, -0.305736,  0.327888]])"
      ]
     },
     "execution_count": 31,
     "metadata": {},
     "output_type": "execute_result"
    }
   ],
   "source": [
    "np.matmul(queries, keys.T)"
   ]
  },
  {
   "cell_type": "code",
   "execution_count": null,
   "id": "4b57d0dd-eb46-499b-b39e-01f744332bc6",
   "metadata": {},
   "outputs": [],
   "source": [
    "## TODO"
   ]
  },
  {
   "cell_type": "code",
   "execution_count": 32,
   "id": "fc797f9d-b69c-4bac-ab13-c3a78e389c5d",
   "metadata": {},
   "outputs": [
    {
     "data": {
      "text/plain": [
       "array([[ 0.105, -0.138],\n",
       "       [-0.267, -0.135],\n",
       "       [ 0.39 ,  0.374]])"
      ]
     },
     "execution_count": 32,
     "metadata": {},
     "output_type": "execute_result"
    }
   ],
   "source": [
    "queries"
   ]
  },
  {
   "cell_type": "code",
   "execution_count": 33,
   "id": "2036c778-aa24-42c0-9fa4-92bdaa3c972f",
   "metadata": {},
   "outputs": [
    {
     "data": {
      "text/plain": [
       "array([[ 0.061,  0.708],\n",
       "       [-0.128, -0.684],\n",
       "       [ 0.297,  0.567]])"
      ]
     },
     "execution_count": 33,
     "metadata": {},
     "output_type": "execute_result"
    }
   ],
   "source": [
    "keys"
   ]
  },
  {
   "cell_type": "markdown",
   "id": "f1699e13-41b4-44e7-97e6-e07e9df82bd4",
   "metadata": {},
   "source": [
    "Source(s):\n",
    "- https://jalammar.github.io/illustrated-transformer/"
   ]
  },
  {
   "cell_type": "code",
   "execution_count": null,
   "id": "63973012-498d-4eb7-831d-1cc7b3b7140a",
   "metadata": {},
   "outputs": [],
   "source": []
  }
 ],
 "metadata": {
  "kernelspec": {
   "display_name": "Python 3 (ipykernel)",
   "language": "python",
   "name": "python3"
  },
  "language_info": {
   "codemirror_mode": {
    "name": "ipython",
    "version": 3
   },
   "file_extension": ".py",
   "mimetype": "text/x-python",
   "name": "python",
   "nbconvert_exporter": "python",
   "pygments_lexer": "ipython3",
   "version": "3.9.6"
  }
 },
 "nbformat": 4,
 "nbformat_minor": 5
}
