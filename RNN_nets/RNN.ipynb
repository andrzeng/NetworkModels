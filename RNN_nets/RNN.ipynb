{
 "cells": [
  {
   "cell_type": "code",
   "execution_count": 1,
   "id": "255a26e2-431d-4d6b-9f7a-d7cf1a584669",
   "metadata": {},
   "outputs": [],
   "source": [
    "import torch\n",
    "from torch import nn\n",
    "import torch.nn.functional as F\n",
    "from torch.utils.data import Dataset, DataLoader, random_split\n",
    "from torch.nn.utils.rnn import pad_sequence\n",
    "from torch.autograd import Variable\n",
    "import torch.optim as optim\n",
    "import numpy as np\n",
    "import random\n",
    "import math\n",
    "import pickle\n",
    "import numpy as np\n",
    "import copy"
   ]
  },
  {
   "cell_type": "code",
   "execution_count": 6,
   "id": "b062cea5-dabe-4d14-ad57-959510a53232",
   "metadata": {},
   "outputs": [],
   "source": [
    "class RNN(nn.Module):\n",
    "    \n",
    "    def __init__(self, n_inputs, n_hiddens, n_outputs):\n",
    "        super().__init__()\n",
    "        self.n_inputs = n_inputs\n",
    "        self.n_hiddens = n_hiddens\n",
    "        self.n_outputs = n_outputs\n",
    "        \n",
    "        self.input_to_hidden = nn.Linear(n_inputs, n_hiddens, bias=False)\n",
    "        self.hidden_to_hidden = nn.Linear(n_hiddens, n_hiddens)\n",
    "        self.hidden_to_output = nn.Linear(n_hiddens, n_outputs)\n",
    "    \n",
    "    def forward(self, X, hidden_state):\n",
    "        X = self.input_to_hidden(X)\n",
    "        hidden_state = self.hidden_to_hidden(hidden_state)\n",
    "        hidden_state = torch.tanh(X + hidden_state)\n",
    "        output = self.hidden_to_output(hidden_state)\n",
    "        \n",
    "        return output, hidden_state\n",
    "    \n",
    "    def init_zero_hidden(self, batch_size=1):\n",
    "        return torch.zeros(batch_size, self.n_hiddens, requires_grad=False)"
   ]
  },
  {
   "cell_type": "code",
   "execution_count": 8,
   "id": "413efba0-2321-497e-90cb-5413ea4060c5",
   "metadata": {},
   "outputs": [],
   "source": [
    "def train(model: RNN, \n",
    "          dataloader: DataLoader, \n",
    "          epochs: int, \n",
    "          optimizer: optim.Optimizer, \n",
    "          loss_fn: nn.Module,\n",
    "          batch_size: int):\n",
    "    train_losses = {}\n",
    "    model.train()\n",
    "    for epoch in range(epochs):\n",
    "        epoch_losses = []\n",
    "        for X, y in dataloader:\n",
    "            \n",
    "            hidden = model.init_zero_hidden(batch_size=batch_size)\n",
    "            model.zero_grad()\n",
    "            loss = 0\n",
    "            \n",
    "            for token_index in range(X.shape[0]):\n",
    "                output, hidden = model(token, hidden)\n",
    "                loss += loss_fn(output, y[token_index])\n",
    "                \n",
    "            loss.backward()\n",
    "            nn.utils.clip_grad_norm_(model.parameters(), max_norm=3)\n",
    "            optimizer.step()"
   ]
  },
  {
   "cell_type": "code",
   "execution_count": null,
   "id": "55d76e00-c4a6-4df6-851c-b63144da49a4",
   "metadata": {},
   "outputs": [],
   "source": []
  }
 ],
 "metadata": {
  "kernelspec": {
   "display_name": "Python 3 (ipykernel)",
   "language": "python",
   "name": "python3"
  },
  "language_info": {
   "codemirror_mode": {
    "name": "ipython",
    "version": 3
   },
   "file_extension": ".py",
   "mimetype": "text/x-python",
   "name": "python",
   "nbconvert_exporter": "python",
   "pygments_lexer": "ipython3",
   "version": "3.9.6"
  }
 },
 "nbformat": 4,
 "nbformat_minor": 5
}
