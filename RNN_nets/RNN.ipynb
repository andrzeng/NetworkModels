{
 "cells": [
  {
   "cell_type": "markdown",
   "id": "26872fbb-74b1-4854-89f3-74ecffc92cbb",
   "metadata": {},
   "source": [
    "Todo:\n",
    "- Add training "
   ]
  },
  {
   "cell_type": "code",
   "execution_count": 1,
   "id": "255a26e2-431d-4d6b-9f7a-d7cf1a584669",
   "metadata": {},
   "outputs": [],
   "source": [
    "import torch\n",
    "from torch import nn\n",
    "import torch.nn.functional as F\n",
    "from torch.utils.data import Dataset, DataLoader, random_split\n",
    "from torch.nn.utils.rnn import pad_sequence\n",
    "from torch.autograd import Variable\n",
    "import torch.optim as optim\n",
    "import numpy as np\n",
    "import random\n",
    "import math\n",
    "import pickle\n",
    "import numpy as np\n",
    "import copy"
   ]
  },
  {
   "cell_type": "code",
   "execution_count": 2,
   "id": "b062cea5-dabe-4d14-ad57-959510a53232",
   "metadata": {},
   "outputs": [],
   "source": [
    "class RNN(nn.Module):\n",
    "    \n",
    "    def __init__(self, n_inputs, n_hiddens, n_outputs):\n",
    "        super().__init__()\n",
    "        self.n_inputs = n_inputs\n",
    "        self.n_hiddens = n_hiddens\n",
    "        self.n_outputs = n_outputs\n",
    "        \n",
    "        self.input_to_hidden = nn.Linear(n_inputs, n_hiddens, bias=False)\n",
    "        self.hidden_to_hidden = nn.Linear(n_hiddens, n_hiddens)\n",
    "        self.hidden_to_output = nn.Linear(n_hiddens, n_outputs)\n",
    "    \n",
    "    def forward(self, X, hidden_state):\n",
    "        X = self.input_to_hidden(X)\n",
    "        hidden_state = self.hidden_to_hidden(hidden_state)\n",
    "        hidden_state = torch.tanh(X + hidden_state)\n",
    "        output = self.hidden_to_output(hidden_state)\n",
    "        \n",
    "        return output, hidden_state\n",
    "    \n",
    "    def init_zero_hidden(self, batch_size=1):\n",
    "        return torch.zeros(batch_size, self.n_hiddens, requires_grad=False)"
   ]
  },
  {
   "cell_type": "code",
   "execution_count": 3,
   "id": "413efba0-2321-497e-90cb-5413ea4060c5",
   "metadata": {},
   "outputs": [],
   "source": [
    "def train(model: RNN, \n",
    "          dataloader: DataLoader, \n",
    "          epochs: int, \n",
    "          optimizer: optim.Optimizer, \n",
    "          loss_fn: nn.Module,\n",
    "          batch_size: int):\n",
    "    train_losses = {}\n",
    "    model.train()\n",
    "    for epoch in range(epochs):\n",
    "        epoch_losses = []\n",
    "        for X, y in dataloader:\n",
    "            \n",
    "            hidden = model.init_zero_hidden(batch_size=batch_size)\n",
    "            model.zero_grad()\n",
    "            loss = 0\n",
    "            \n",
    "            for token_index in range(X.shape[0]):\n",
    "                output, hidden = model(token, hidden)\n",
    "                loss += loss_fn(output, y[token_index])\n",
    "                \n",
    "            loss.backward()\n",
    "            nn.utils.clip_grad_norm_(model.parameters(), max_norm=3)\n",
    "            optimizer.step()"
   ]
  },
  {
   "cell_type": "code",
   "execution_count": 38,
   "id": "55d76e00-c4a6-4df6-851c-b63144da49a4",
   "metadata": {},
   "outputs": [],
   "source": [
    "training_words = [\"yo what's up homie\", 'how are you doing man', 'i enjoy listening to beethoven']"
   ]
  },
  {
   "cell_type": "code",
   "execution_count": 39,
   "id": "1c43b662-5390-42dc-ac7a-515fe979d893",
   "metadata": {},
   "outputs": [],
   "source": [
    "chars = set(''.join(training_words))"
   ]
  },
  {
   "cell_type": "code",
   "execution_count": 40,
   "id": "61e2d1c7-16b3-4a17-af3d-d221b71ad877",
   "metadata": {},
   "outputs": [],
   "source": [
    "int2char = dict(enumerate(chars))"
   ]
  },
  {
   "cell_type": "code",
   "execution_count": 41,
   "id": "e96db48d-7df3-4c5f-9e9c-7d0692ea1ce3",
   "metadata": {},
   "outputs": [],
   "source": [
    "char2int = {character : value for value, character in int2char.items()}"
   ]
  },
  {
   "cell_type": "code",
   "execution_count": 42,
   "id": "58e52c07-6920-49c4-b365-fdb7753a61e2",
   "metadata": {},
   "outputs": [],
   "source": [
    "maxlen = len(max(training_words, key=len))"
   ]
  },
  {
   "cell_type": "code",
   "execution_count": 45,
   "id": "982ecdde-937d-46fd-9cfb-90bd8048132f",
   "metadata": {},
   "outputs": [],
   "source": [
    "for i in range(len(training_words)):\n",
    "    for _ in range(maxlen - len(training_words[i])):\n",
    "        training_words[i] += ' '"
   ]
  },
  {
   "cell_type": "code",
   "execution_count": 46,
   "id": "294a8632-0187-4460-9044-481c1fea635e",
   "metadata": {},
   "outputs": [
    {
     "data": {
      "text/plain": [
       "[\"yo what's up homie            \",\n",
       " 'how are you doing man         ',\n",
       " 'i enjoy listening to beethoven']"
      ]
     },
     "execution_count": 46,
     "metadata": {},
     "output_type": "execute_result"
    }
   ],
   "source": [
    "training_words"
   ]
  },
  {
   "cell_type": "code",
   "execution_count": 49,
   "id": "c68c92a1-c2dc-4116-8208-8ee5035fd906",
   "metadata": {},
   "outputs": [],
   "source": [
    "input_sequences = []\n",
    "target_sequences = []"
   ]
  },
  {
   "cell_type": "code",
   "execution_count": 55,
   "id": "695ef2f8-e2ef-48ad-a9d6-a2a48cc32ea4",
   "metadata": {},
   "outputs": [],
   "source": [
    "for i in range(len(training_words)):\n",
    "    input_sequences.append(training_words[i][:-1])\n",
    "    target_sequences.append(training_words[i][1:])"
   ]
  },
  {
   "cell_type": "code",
   "execution_count": 56,
   "id": "20fb7bfd-963e-49ea-a15e-ba9b8dc6baa6",
   "metadata": {},
   "outputs": [],
   "source": [
    "for i in range(len(training_words)):\n",
    "    input_sequences[i] = [char2int[character] for character in input_sequences[i]]\n",
    "    target_sequences[i] = [char2int[character] for character in target_sequences[i]]"
   ]
  },
  {
   "cell_type": "code",
   "execution_count": null,
   "id": "61793e7e-137c-4321-b0f3-4fa706eea264",
   "metadata": {},
   "outputs": [],
   "source": []
  },
  {
   "cell_type": "code",
   "execution_count": null,
   "id": "45d15513-7074-42c6-98eb-739231730ba7",
   "metadata": {},
   "outputs": [],
   "source": []
  }
 ],
 "metadata": {
  "kernelspec": {
   "display_name": "Python 3 (ipykernel)",
   "language": "python",
   "name": "python3"
  },
  "language_info": {
   "codemirror_mode": {
    "name": "ipython",
    "version": 3
   },
   "file_extension": ".py",
   "mimetype": "text/x-python",
   "name": "python",
   "nbconvert_exporter": "python",
   "pygments_lexer": "ipython3",
   "version": "3.9.6"
  }
 },
 "nbformat": 4,
 "nbformat_minor": 5
}
