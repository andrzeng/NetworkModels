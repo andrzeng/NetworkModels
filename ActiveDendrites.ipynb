{
 "cells": [
  {
   "cell_type": "code",
   "execution_count": 1,
   "id": "e584f28a-a2d6-41f3-8301-a63031985369",
   "metadata": {},
   "outputs": [],
   "source": [
    "import torch\n",
    "from torch import nn\n",
    "import torch.nn.functional as F\n",
    "from torch.utils.data import Dataset, DataLoader, random_split\n",
    "from torch.nn.utils.rnn import pad_sequence\n",
    "from torch.autograd import Variable\n",
    "import torch.optim as optim\n",
    "import numpy as np\n",
    "import random\n",
    "import math\n",
    "import pickle\n",
    "import matplotlib.pyplot as plt\n",
    "import numpy as np\n",
    "import copy"
   ]
  },
  {
   "cell_type": "code",
   "execution_count": 77,
   "id": "247075a8-6794-4f1a-8656-4a0052e727d7",
   "metadata": {},
   "outputs": [],
   "source": [
    "class ADNeuron(nn.Module):\n",
    "    def __init__(self, n_dendritic_segments, input_dim, context_dim):\n",
    "        super().__init__()\n",
    "        self.n_segments = n_dendritic_segments\n",
    "        self.context_dim = context_dim\n",
    "        \n",
    "        self.weight = nn.Linear(input_dim, 1, bias=True)\n",
    "        self.dendritic_segments = [torch.rand(context_dim) * 2 - 1 for _ in range(n_dendritic_segments)]\n",
    "        \n",
    "    def forward(self, \n",
    "                X,  #input\n",
    "                context #context vector\n",
    "               ):\n",
    "        feedforward_activity = self.weight(X)\n",
    "        dendritic_activities = [torch.matmul(dendritic_segment, context) for dendritic_segment in self.dendritic_segments]\n",
    "        \n",
    "        max_dendritic_activity = np.max(dendritic_activities)\n",
    "        return feedforward_activity*torch.sigmoid(torch.Tensor([max_dendritic_activity]))\n",
    "        \n",
    "        \n"
   ]
  },
  {
   "cell_type": "code",
   "execution_count": null,
   "id": "3868ef44-f7c8-4e06-8c0d-83cbea43fcda",
   "metadata": {},
   "outputs": [],
   "source": []
  }
 ],
 "metadata": {
  "kernelspec": {
   "display_name": "Python 3 (ipykernel)",
   "language": "python",
   "name": "python3"
  },
  "language_info": {
   "codemirror_mode": {
    "name": "ipython",
    "version": 3
   },
   "file_extension": ".py",
   "mimetype": "text/x-python",
   "name": "python",
   "nbconvert_exporter": "python",
   "pygments_lexer": "ipython3",
   "version": "3.9.6"
  }
 },
 "nbformat": 4,
 "nbformat_minor": 5
}
