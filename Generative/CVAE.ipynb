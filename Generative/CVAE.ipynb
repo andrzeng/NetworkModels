{
 "cells": [
  {
   "cell_type": "markdown",
   "id": "02819f6f-2920-4142-804c-5cee14ba311b",
   "metadata": {},
   "source": [
    "Created 2022-12-31\n",
    "\n",
    "Variational autoencoders are a play on the classic *autoencoder*. Whereas the original autoencoder maps input vectors onto latent \"compressed\" vectors, **variational autoencoders** map input vectors onto the parameters of a probability distribution instead. For example, a simple variational autoencoder taking in 1d values may map them onto $(\\mu, \\sigma)$, a 2d-vector representing the parameters of a 1d gaussian."
   ]
  },
  {
   "cell_type": "code",
   "execution_count": 3,
   "id": "442c5595-3091-4da9-a27c-b2235cd0ab0d",
   "metadata": {},
   "outputs": [],
   "source": [
    "import tensorflow as tf\n",
    "from IPython import display\n",
    "import glob\n",
    "import imageio\n",
    "import matplotlib.pyplot as plt\n",
    "import numpy as np\n",
    "import PIL\n",
    "import tensorflow as tf\n",
    "import tensorflow_probability as tfp\n",
    "import time"
   ]
  },
  {
   "cell_type": "code",
   "execution_count": 7,
   "id": "8bbbd401-bc5b-4303-89e4-fce0141689df",
   "metadata": {},
   "outputs": [
    {
     "data": {
      "text/plain": [
       "(60000, 28, 28)"
      ]
     },
     "execution_count": 7,
     "metadata": {},
     "output_type": "execute_result"
    }
   ],
   "source": [
    "train_images.shape"
   ]
  },
  {
   "cell_type": "code",
   "execution_count": 8,
   "id": "ca09832f-f065-4ecc-873c-8fdd17e2c22a",
   "metadata": {},
   "outputs": [
    {
     "data": {
      "text/plain": [
       "<function numpy.where>"
      ]
     },
     "execution_count": 8,
     "metadata": {},
     "output_type": "execute_result"
    }
   ],
   "source": [
    "np.where()"
   ]
  },
  {
   "cell_type": "code",
   "execution_count": null,
   "id": "2ca062c9-51d2-4430-b58d-ba88b0851750",
   "metadata": {},
   "outputs": [],
   "source": []
  },
  {
   "cell_type": "code",
   "execution_count": 5,
   "id": "27566894-8f1c-4b5f-b3ac-eaa80cda644d",
   "metadata": {},
   "outputs": [],
   "source": [
    "#We can disregard the data labels because our goal is not training a classifier model\n",
    "\n",
    "(train_images, _), (test_images, _) = tf.keras.datasets.mnist.load_data()"
   ]
  },
  {
   "cell_type": "code",
   "execution_count": 18,
   "id": "86fb8df7-f69f-4d42-bfa3-633305bba924",
   "metadata": {},
   "outputs": [],
   "source": [
    "'''\n",
    "In this function, we first reshape the images to add an extra dimension.\n",
    "Then, we scale the pixel values to be in [0,1] instead of [0,255]. Finally,\n",
    "we binarize the image pixel values, so that any value at or below 0.5 becomes 0 while the rest \n",
    "become 1.\n",
    "'''\n",
    "def preprocess_images(images):\n",
    "    images = images.reshape(images.shape[0], 28, 28, 1)\n",
    "    images = images / 255\n",
    "    images = np.where(images > 0.5, 1.0, 0.0).astype('float32')\n",
    "    \n",
    "    return images\n",
    "\n",
    "train_images = preprocess_images(train_images)\n",
    "test_images = preprocess_images(test_images)"
   ]
  },
  {
   "cell_type": "code",
   "execution_count": 19,
   "id": "364cba8c-6c62-473c-a835-a9b99a7f713e",
   "metadata": {},
   "outputs": [],
   "source": [
    "train_size = 60000\n",
    "batch_size = 32\n",
    "test_size = 10000"
   ]
  },
  {
   "cell_type": "code",
   "execution_count": 24,
   "id": "daafad17-b116-41b7-b65c-07a2bd4bf3cd",
   "metadata": {},
   "outputs": [],
   "source": [
    "'''\n",
    "The tf.data.Dataset.from_tensor_slices function takes in a Tensor and creates a dataset with the items being \n",
    "indexed by the first dimension\n",
    "\n",
    "'''\n",
    "\n",
    "train_dataset = (tf.data.Dataset.from_tensor_slices(train_images).shuffle(buffer_size=train_size).batch(batch_size) )\n",
    "test_dataset = (tf.data.Dataset.from_tensor_slices(test_images).shuffle(buffer_size=train_size).batch(batch_size))"
   ]
  },
  {
   "cell_type": "code",
   "execution_count": null,
   "id": "2fc70e8d-7136-45c3-ae2c-28e7cb4abd01",
   "metadata": {},
   "outputs": [],
   "source": [
    "class ConvVAE(tf.keras.Model):\n",
    "    \n",
    "    def __init__(self, latent_dimension):\n",
    "        super().__init__()\n",
    "        self.latent_dimension = latent_dimension\n",
    "        \n",
    "        self.encoder = ([\n",
    "            tf.keras.layers.InputLayer(input_shape=(28,28,1)), #https://stackoverflow.com/questions/45217973/what-is-the-advantage-of-using-an-inputlayer-or-an-input-in-a-keras-model-with\n",
    "            tf.keras.layers.Conv2d(filters=32, #number of convolution kernels\n",
    "                                   kernel_size=3,\n",
    "                                   strides=(2,2),\n",
    "                                   activation='relu'\n",
    "                                  ),\n",
    "            tf.keras.layers.Conv2d(filters=64,\n",
    "                                  kernel_size=3,\n",
    "                                  strides=(2,2),\n",
    "                                  activation='relu'),\n",
    "            tf.keras.layers.Flatten(),\n",
    "            \n",
    "            '''\n",
    "            Here, the dense layer outputs a vector of length latent_dimension + latent_dimension.\n",
    "            The first half of the entries will correspond to the means of gaussians, while the latter half of the entries\n",
    "            will correspond to the log-variance of gaussians\n",
    "            '''\n",
    "            tf.keras.layers.Dense(latent_dimension + latent_dimension)\n",
    "        \n",
    "        ])\n",
    "        \n",
    "        self.decoder = ([\n",
    "            tf.keras.layers.InputLayer(input_shape=(latent_dimension,)),\n",
    "            tf.keras.layers.Dense(units=7*7*32, activation=tf.nn.relu),\n",
    "            tf.keras.layers.Reshape(target_shape = (7,7,32)),\n",
    "            tf.keras.layers.Conv2DTranspose(\n",
    "                filters=64,\n",
    "                kernel_size=3,\n",
    "                strides=2,\n",
    "                padding='same',\n",
    "                activation='relu'\n",
    "            ),\n",
    "            tf.keras.layers.Conv2DTranspose(\n",
    "                filters=32,\n",
    "                kernel_size=3,\n",
    "                strides=2,\n",
    "                padding='same',\n",
    "                activation='relu'\n",
    "            )\n",
    "            \n",
    "            tf.keras.layers.Conv2DTranspose(\n",
    "             filters=1,\n",
    "            kernel_size=3,\n",
    "                strides=1,\n",
    "                padding='same'\n",
    "            )\n",
    "        \n",
    "        ])\n",
    "        \n",
    "        \n",
    "        @tf.function\n",
    "        def sample"
   ]
  },
  {
   "cell_type": "markdown",
   "id": "519b2c04-fb14-4b35-9fd4-dcf42c97e0b0",
   "metadata": {},
   "source": [
    "Sources:\n",
    "- https://towardsdatascience.com/understanding-variational-autoencoders-vaes-f70510919f73\n",
    "- https://www.tensorflow.org/tutorials/generative/cvae"
   ]
  },
  {
   "cell_type": "code",
   "execution_count": null,
   "id": "711c9975-9fb4-4cf3-addb-95815ebdb0c5",
   "metadata": {},
   "outputs": [],
   "source": []
  }
 ],
 "metadata": {
  "kernelspec": {
   "display_name": "Python 3 (ipykernel)",
   "language": "python",
   "name": "python3"
  },
  "language_info": {
   "codemirror_mode": {
    "name": "ipython",
    "version": 3
   },
   "file_extension": ".py",
   "mimetype": "text/x-python",
   "name": "python",
   "nbconvert_exporter": "python",
   "pygments_lexer": "ipython3",
   "version": "3.9.6"
  }
 },
 "nbformat": 4,
 "nbformat_minor": 5
}
